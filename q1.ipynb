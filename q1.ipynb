{
 "cells": [
  {
   "cell_type": "code",
   "execution_count": 54,
   "metadata": {},
   "outputs": [],
   "source": [
    "from datetime import datetime, timedelta\n",
    "import pandas as pd\n",
    "\n",
    "df = pd.read_csv(\"3131.csv\")\n",
    "df_expiry = pd.DataFrame().reindex(columns=df.columns)\n",
    "\n",
    "thursday = 4  # 4th day of the week\n",
    "\n",
    "\n",
    "def getDateObjectFromRow(rowIndex):\n",
    "    '''Input: row number\n",
    "    return: datetime object of date of that row in dataframe'''\n",
    "\n",
    "    return datetime.strptime(df.iloc[rowIndex]['datetime'], '%Y-%m-%d')\n",
    "\n",
    "\n",
    "row_index = 0  # to iterate through all rows in dataframe\n",
    "\n",
    "# this will iterate day by day from start date\n",
    "current_date = getDateObjectFromRow(0)\n",
    "\n",
    "\n",
    "# to ensure we iterate through all rows of dataframe\n",
    "while (row_index < df.shape[0]):\n",
    "\n",
    "    if (current_date.isoweekday() == thursday):\n",
    "        # whatever is the current date in dataframe is the actual expiry\n",
    "\n",
    "        if (getDateObjectFromRow(row_index).isoweekday() == thursday):\n",
    "            df_expiry = df_expiry.append(df.iloc[row_index], ignore_index=True)\n",
    "        else:\n",
    "            df_expiry = df_expiry.append(df.iloc[row_index - 1], ignore_index=True)\n",
    "\n",
    "     \n",
    "    if (current_date == getDateObjectFromRow(row_index)):  # move to next row data point\n",
    "    \n",
    "        row_index = row_index + 1\n",
    "\n",
    "    current_date = current_date + timedelta(days=1)  # move to next day\n",
    "\n",
    "df_expiry = df_expiry.drop_duplicates(subset='datetime', keep=\"last\")\n",
    "df_expiry.to_csv(\"expiryData.csv\", encoding='utf-8', index=False)\n"
   ]
  },
  {
   "cell_type": "code",
   "execution_count": null,
   "metadata": {},
   "outputs": [],
   "source": [
    "df_expiry"
   ]
  },
  {
   "cell_type": "code",
   "execution_count": null,
   "metadata": {},
   "outputs": [],
   "source": [
    "from datetime import datetime\n",
    "df_expiry['weekday'] = df_expiry.apply(lambda x: datetime.strptime(\n",
    "    x['datetime'], '%Y-%m-%d').isoweekday(), axis=1)\n"
   ]
  },
  {
   "cell_type": "code",
   "execution_count": null,
   "metadata": {},
   "outputs": [],
   "source": [
    "df_expiry['weekday'].unique()"
   ]
  }
 ],
 "metadata": {
  "interpreter": {
   "hash": "aee8b7b246df8f9039afb4144a1f6fd8d2ca17a180786b69acc140d282b71a49"
  },
  "kernelspec": {
   "display_name": "Python 3.9.6 64-bit",
   "language": "python",
   "name": "python3"
  },
  "language_info": {
   "codemirror_mode": {
    "name": "ipython",
    "version": 3
   },
   "file_extension": ".py",
   "mimetype": "text/x-python",
   "name": "python",
   "nbconvert_exporter": "python",
   "pygments_lexer": "ipython3",
   "version": "3.9.6"
  },
  "orig_nbformat": 4
 },
 "nbformat": 4,
 "nbformat_minor": 2
}
