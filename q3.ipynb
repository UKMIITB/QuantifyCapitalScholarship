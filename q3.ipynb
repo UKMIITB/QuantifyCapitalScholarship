{
 "cells": [
  {
   "cell_type": "code",
   "execution_count": 1,
   "metadata": {},
   "outputs": [
    {
     "name": "stdout",
     "output_type": "stream",
     "text": [
      "2021-11-24 00:00:00\n"
     ]
    }
   ],
   "source": [
    "from datetime import datetime, timedelta\n",
    "import sys\n",
    "\n",
    "wednesday = 3\n",
    "\n",
    "\n",
    "def inputFormatCheck(input_date):\n",
    "    try:\n",
    "        year, month, day = input_date.split('-')\n",
    "        if (len(year) != 4 or len(month) != 2 or len(day) != 2):\n",
    "            return False\n",
    "        return True\n",
    "    except:\n",
    "        return False\n",
    "\n",
    "\n",
    "# print(\"Please enter date in YYYY-MM-DD format\")\n",
    "# input_date = input()\n",
    "input_date = \"2021-11-06\"\n",
    "\n",
    "if (inputFormatCheck(input_date) == False):\n",
    "    print(\"Please enter correct date format and try again\")\n",
    "    sys.exit(0)\n",
    "\n",
    "input_date_object = datetime.strptime(input_date, '%Y-%m-%d')\n",
    "\n",
    "# to iterate through the entire days of the inputted month\n",
    "current_date = datetime(input_date_object.year, input_date_object.month, 1)\n",
    "last_wednesday = current_date\n",
    "\n",
    "while(current_date.month == input_date_object.month):\n",
    "    if (current_date.isoweekday() == wednesday):\n",
    "        last_wednesday = current_date\n",
    "    current_date = current_date + timedelta(days=1)\n",
    "\n",
    "print(last_wednesday)\n"
   ]
  }
 ],
 "metadata": {
  "interpreter": {
   "hash": "aee8b7b246df8f9039afb4144a1f6fd8d2ca17a180786b69acc140d282b71a49"
  },
  "kernelspec": {
   "display_name": "Python 3.9.6 64-bit",
   "language": "python",
   "name": "python3"
  },
  "language_info": {
   "codemirror_mode": {
    "name": "ipython",
    "version": 3
   },
   "file_extension": ".py",
   "mimetype": "text/x-python",
   "name": "python",
   "nbconvert_exporter": "python",
   "pygments_lexer": "ipython3",
   "version": "3.9.6"
  },
  "orig_nbformat": 4
 },
 "nbformat": 4,
 "nbformat_minor": 2
}
